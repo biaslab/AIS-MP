{
 "cells": [
  {
   "cell_type": "code",
   "execution_count": 1,
   "metadata": {},
   "outputs": [
    {
     "name": "stderr",
     "output_type": "stream",
     "text": [
      "┌ Info: Precompiling ForneyLab [9fc3f58a-c2cc-5bff-9419-6a294fefdca9]\n",
      "└ @ Base loading.jl:1278\n",
      "┌ Warning: Package ForneyLab does not have DataStructures in its dependencies:\n",
      "│ - If you have ForneyLab checked out for development and have\n",
      "│   added DataStructures as a dependency but haven't updated your primary\n",
      "│   environment's manifest file, try `Pkg.resolve()`.\n",
      "│ - Otherwise you may need to report an issue with ForneyLab\n",
      "└ Loading DataStructures into ForneyLab from project dependency, future warnings for ForneyLab are suppressed.\n",
      "WARNING: Method definition (::ForneyLab.var\"#logp_nc#365\"{msg_out, thenode, inx_list, arg_sample, j})(Any) in module ForneyLab at /Users/sakbayrak/.julia/dev/ForneyLab/src/engines/julia/update_rules/cvi.jl:129 overwritten at /Users/sakbayrak/.julia/dev/ForneyLab/src/engines/julia/update_rules/cvi.jl:132.\n",
      "  ** incremental compilation may be fatally broken for this module **\n",
      "\n"
     ]
    }
   ],
   "source": [
    "using ForneyLab, LinearAlgebra, Random, Plots"
   ]
  },
  {
   "cell_type": "markdown",
   "metadata": {},
   "source": [
    "Model specification $p(y,z) = \\mathcal{N}(y=13.5,\\prod\\limits_{i=1}^{3}x_i^{[z==i]},3) \\mathcal{C}at(z;[0.49,0.01,0.5])$\n",
    "\n",
    "where $x_1 = -10, x_2 = 10, x_3 = 20$"
   ]
  },
  {
   "cell_type": "markdown",
   "metadata": {},
   "source": [
    "# Manual Calculation"
   ]
  },
  {
   "cell_type": "code",
   "execution_count": 2,
   "metadata": {},
   "outputs": [
    {
     "data": {
      "text/plain": [
       "3-element Array{Float64,1}:\n",
       " -93.50991134420539\n",
       "  -3.509911344205394\n",
       "  -8.509911344205396"
      ]
     },
     "execution_count": 2,
     "metadata": {},
     "output_type": "execute_result"
    }
   ],
   "source": [
    "loglikes = [logPdf(ProbabilityDistribution(Univariate, GaussianMeanVariance, m=-10, v=3),13.5),\n",
    "logPdf(ProbabilityDistribution(Univariate, GaussianMeanVariance, m=10, v=3),13.5),\n",
    "logPdf(ProbabilityDistribution(Univariate, GaussianMeanVariance, m=20, v=3),13.5)]"
   ]
  },
  {
   "cell_type": "code",
   "execution_count": 3,
   "metadata": {},
   "outputs": [
    {
     "data": {
      "text/plain": [
       "Cat(p=[8.14e-40, 0.99, 6.69e-03])\n"
      ]
     },
     "execution_count": 3,
     "metadata": {},
     "output_type": "execute_result"
    }
   ],
   "source": [
    "potential = ProbabilityDistribution(Univariate, Categorical, p=exp.(loglikes)/sum(exp.(loglikes)))"
   ]
  },
  {
   "cell_type": "code",
   "execution_count": 4,
   "metadata": {},
   "outputs": [
    {
     "data": {
      "text/plain": [
       "Cat(p=[0.49, 1.00e-02, 0.50])\n"
      ]
     },
     "execution_count": 4,
     "metadata": {},
     "output_type": "execute_result"
    }
   ],
   "source": [
    "prior = ProbabilityDistribution(Univariate, Categorical, p=[0.49,0.01,0.5])"
   ]
  },
  {
   "cell_type": "code",
   "execution_count": 5,
   "metadata": {},
   "outputs": [
    {
     "data": {
      "text/plain": [
       "Cat(p=[7.53e-11, 0.75, 0.25])\n"
      ]
     },
     "execution_count": 5,
     "metadata": {},
     "output_type": "execute_result"
    }
   ],
   "source": [
    "posterior = prod!(potential,prior)"
   ]
  },
  {
   "cell_type": "code",
   "execution_count": 6,
   "metadata": {},
   "outputs": [
    {
     "data": {
      "text/plain": [
       "symmetric_KL (generic function with 1 method)"
      ]
     },
     "execution_count": 6,
     "metadata": {},
     "output_type": "execute_result"
    }
   ],
   "source": [
    "# Symmetric KL divergence to measure performance\n",
    "symmetric_KL(p,q) = (mean(p)'*log.(mean(p)) + mean(q)'*log.(mean(q)) - mean(q)'*log.(mean(p)) - mean(p)'*log.(mean(q)))/2"
   ]
  },
  {
   "cell_type": "markdown",
   "metadata": {},
   "source": [
    "# EVMP"
   ]
  },
  {
   "cell_type": "code",
   "execution_count": 7,
   "metadata": {},
   "outputs": [],
   "source": [
    "# Model\n",
    "graph = FactorGraph()\n",
    "\n",
    "f(z) = z[1]*-10. + z[2]*10. + z[3]*20.\n",
    "\n",
    "@RV z ~ Categorical([0.49,0.01,0.5])\n",
    "\n",
    "@RV s ~ Nonlinear{Sampling}(z,g=f)\n",
    "@RV y ~ GaussianMeanVariance(s,3.)\n",
    "placeholder(y,:y)\n",
    ";"
   ]
  },
  {
   "cell_type": "code",
   "execution_count": 8,
   "metadata": {},
   "outputs": [],
   "source": [
    "algo = messagePassingAlgorithm(z)\n",
    "source_code = algorithmSourceCode(algo)\n",
    "eval(Meta.parse(source_code))\n",
    ";"
   ]
  },
  {
   "cell_type": "code",
   "execution_count": 9,
   "metadata": {},
   "outputs": [],
   "source": [
    "KL_EVMP = []\n",
    "for i=1:100\n",
    "    Random.seed!(i)\n",
    "    data = Dict(:y => 13.5)\n",
    "    marginals = Dict()\n",
    "\n",
    "    step!(data, marginals)\n",
    "    estimate = ProbabilityDistribution(Univariate, Categorical, p=mean(marginals[:z]))\n",
    "    push!(KL_EVMP,symmetric_KL(estimate,posterior))\n",
    "end"
   ]
  },
  {
   "cell_type": "code",
   "execution_count": 10,
   "metadata": {},
   "outputs": [
    {
     "data": {
      "text/plain": [
       "0.011763942391736025"
      ]
     },
     "execution_count": 10,
     "metadata": {},
     "output_type": "execute_result"
    }
   ],
   "source": [
    "mean(KL_EVMP)"
   ]
  },
  {
   "cell_type": "code",
   "execution_count": 11,
   "metadata": {},
   "outputs": [
    {
     "data": {
      "text/plain": [
       "0.0006955651659333311"
      ]
     },
     "execution_count": 11,
     "metadata": {},
     "output_type": "execute_result"
    }
   ],
   "source": [
    "var(KL_EVMP)"
   ]
  },
  {
   "cell_type": "markdown",
   "metadata": {},
   "source": [
    "# AIS-MP"
   ]
  },
  {
   "cell_type": "code",
   "execution_count": 12,
   "metadata": {},
   "outputs": [],
   "source": [
    "# Model\n",
    "graph = FactorGraph()\n",
    "\n",
    "f(z) = z[1]*-10. + z[2]*10. + z[3]*20.\n",
    "\n",
    "@RV z ~ Categorical([0.49,0.01,0.5])\n",
    "\n",
    "@RV s ~ Aismp(z,g=f)\n",
    "@RV y ~ GaussianMeanVariance(s,3.)\n",
    "placeholder(y,:y)\n",
    ";"
   ]
  },
  {
   "cell_type": "code",
   "execution_count": 13,
   "metadata": {},
   "outputs": [],
   "source": [
    "algo = messagePassingAlgorithm(z)\n",
    "source_code = algorithmSourceCode(algo)\n",
    "eval(Meta.parse(source_code))\n",
    ";"
   ]
  },
  {
   "cell_type": "code",
   "execution_count": 14,
   "metadata": {},
   "outputs": [],
   "source": [
    "KL_AISMP = []\n",
    "for i=1:100\n",
    "    Random.seed!(i)\n",
    "    data = Dict(:y => 13.5)\n",
    "    marginals = Dict()\n",
    "\n",
    "    step!(data, marginals)\n",
    "    estimate = marginals[:z]\n",
    "    push!(KL_AISMP,symmetric_KL(estimate,posterior))\n",
    "end"
   ]
  },
  {
   "cell_type": "code",
   "execution_count": 15,
   "metadata": {},
   "outputs": [
    {
     "data": {
      "text/plain": [
       "0.006204354185200648"
      ]
     },
     "execution_count": 15,
     "metadata": {},
     "output_type": "execute_result"
    }
   ],
   "source": [
    "mean(KL_AISMP)"
   ]
  },
  {
   "cell_type": "code",
   "execution_count": 16,
   "metadata": {},
   "outputs": [
    {
     "data": {
      "text/plain": [
       "1.9856147872346943e-5"
      ]
     },
     "execution_count": 16,
     "metadata": {},
     "output_type": "execute_result"
    }
   ],
   "source": [
    "var(KL_AISMP)"
   ]
  },
  {
   "cell_type": "code",
   "execution_count": null,
   "metadata": {},
   "outputs": [],
   "source": []
  }
 ],
 "metadata": {
  "kernelspec": {
   "display_name": "Julia 1.5.3",
   "language": "julia",
   "name": "julia-1.5"
  },
  "language_info": {
   "file_extension": ".jl",
   "mimetype": "application/julia",
   "name": "julia",
   "version": "1.5.3"
  }
 },
 "nbformat": 4,
 "nbformat_minor": 4
}
